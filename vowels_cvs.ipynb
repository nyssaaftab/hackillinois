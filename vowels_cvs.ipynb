{
 "cells": [
  {
   "cell_type": "code",
   "execution_count": 2,
   "metadata": {},
   "outputs": [
    {
     "name": "stdout",
     "output_type": "stream",
     "text": [
      "Found 609 images belonging to 51 classes.\n",
      "Found 149 images belonging to 51 classes.\n",
      "Epoch 1/10\n",
      "20/20 [==============================] - 4s 177ms/step - loss: 39.7062 - accuracy: 0.0115 - val_loss: 5.9522 - val_accuracy: 0.0201\n",
      "Epoch 2/10\n",
      "20/20 [==============================] - 3s 158ms/step - loss: 4.1442 - accuracy: 0.0821 - val_loss: 3.9266 - val_accuracy: 0.0470\n",
      "Epoch 3/10\n",
      "20/20 [==============================] - 3s 153ms/step - loss: 2.6553 - accuracy: 0.5961 - val_loss: 3.7301 - val_accuracy: 0.1745\n",
      "Epoch 4/10\n",
      "20/20 [==============================] - 3s 155ms/step - loss: 0.8446 - accuracy: 0.8506 - val_loss: 3.3898 - val_accuracy: 0.2081\n",
      "Epoch 5/10\n",
      "20/20 [==============================] - 3s 153ms/step - loss: 0.0614 - accuracy: 0.9951 - val_loss: 3.2279 - val_accuracy: 0.2483\n",
      "Epoch 6/10\n",
      "20/20 [==============================] - 3s 150ms/step - loss: 0.0041 - accuracy: 1.0000 - val_loss: 3.2469 - val_accuracy: 0.2819\n",
      "Epoch 7/10\n",
      "20/20 [==============================] - 3s 155ms/step - loss: 0.0013 - accuracy: 1.0000 - val_loss: 3.2028 - val_accuracy: 0.2953\n",
      "Epoch 8/10\n",
      "20/20 [==============================] - 3s 154ms/step - loss: 8.0404e-04 - accuracy: 1.0000 - val_loss: 3.1896 - val_accuracy: 0.2886\n",
      "Epoch 9/10\n",
      "20/20 [==============================] - 3s 155ms/step - loss: 5.8022e-04 - accuracy: 1.0000 - val_loss: 3.1795 - val_accuracy: 0.2953\n",
      "Epoch 10/10\n",
      "20/20 [==============================] - 3s 155ms/step - loss: 4.2877e-04 - accuracy: 1.0000 - val_loss: 3.1541 - val_accuracy: 0.3087\n",
      "INFO:tensorflow:Assets written to: handwritten1.model/assets\n"
     ]
    },
    {
     "name": "stderr",
     "output_type": "stream",
     "text": [
      "INFO:tensorflow:Assets written to: handwritten1.model/assets\n"
     ]
    }
   ],
   "source": [
    "import os\n",
    "import cv2\n",
    "import numpy as np\n",
    "import matplotlib.pyplot as plt\n",
    "import tensorflow as tf\n",
    "from IPython.display import Image, display\n",
    "from tensorflow.keras.preprocessing.image import ImageDataGenerator\n",
    "from tensorflow.keras.preprocessing.image import ImageDataGenerator\n",
    "from tensorflow.keras.models import Sequential\n",
    "from tensorflow.keras.layers import Conv2D, MaxPooling2D, Flatten, Dense\n",
    "\n",
    "\n",
    "# Set the correct dataset path\n",
    "dataset_path = \"/Users/nyssaaftab/Downloads/cvs\"\n",
    "\n",
    "# Set up data generators\n",
    "datagen = ImageDataGenerator(rescale=1./255, validation_split=0.2)\n",
    "\n",
    "# Create the training data generator\n",
    "train_generator = datagen.flow_from_directory(\n",
    "    dataset_path,\n",
    "    target_size=(200, 200),\n",
    "    batch_size=32,\n",
    "    class_mode='categorical',\n",
    "    subset='training'\n",
    ")\n",
    "\n",
    "# Print the class indices\n",
    "#print(train_generator.class_indices)\n",
    "\n",
    "# Rest of your code, including model training, evaluation, and predictions\n",
    "\n",
    "validation_generator = datagen.flow_from_directory(\n",
    "    dataset_path,\n",
    "    target_size=(200, 200),  # Adjust target_size to match your image size\n",
    "    batch_size=32,\n",
    "    class_mode='categorical',\n",
    "    subset='validation'\n",
    ")\n",
    "\n",
    "# Build a simple convolutional neural network (CNN)\n",
    "model = Sequential()\n",
    "model.add(Conv2D(32, (3, 3), input_shape=(200, 200, 3), activation='relu'))\n",
    "model.add(MaxPooling2D(pool_size=(2, 2)))\n",
    "model.add(Flatten())\n",
    "model.add(Dense(200, activation='relu'))\n",
    "model.add(Dense(51, activation='softmax'))\n",
    "\n",
    "# Compile the model\n",
    "model.compile(optimizer='adam', loss='categorical_crossentropy', metrics=['accuracy'])\n",
    "\n",
    "# Train the model\n",
    "model.fit(train_generator, epochs=10, validation_data=validation_generator)\n",
    "model.save('handwritten1.model')\n"
   ]
  },
  {
   "cell_type": "code",
   "execution_count": 3,
   "metadata": {},
   "outputs": [
    {
     "name": "stdout",
     "output_type": "stream",
     "text": [
      "{'a': 0, 'ba': 1, 'be': 2, 'bu': 3, 'da': 4, 'de': 5, 'du': 6, 'e': 7, 'ga': 8, 'ge': 9, 'gu': 10, 'ha': 11, 'he': 12, 'hi': 13, 'hu': 14, 'i': 15, 'ka': 16, 'ke': 17, 'ku': 18, 'la': 19, 'le': 20, 'lu': 21, 'ma': 22, 'me': 23, 'mu': 24, 'na': 25, 'ne': 26, 'ni': 27, 'nu': 28, 'pa': 29, 'pe': 30, 'qa': 31, 'ra': 32, 're': 33, 'ru': 34, 'sa': 35, 'se': 36, 'si': 37, 'su': 38, 'ta': 39, 'te': 40, 'ti': 41, 'tu': 42, 'u': 43, 'wa': 44, 'wi': 45, 'ya': 46, 'za': 47, 'ze': 48, 'zi': 49, 'zu': 50}\n"
     ]
    }
   ],
   "source": [
    "print(train_generator.class_indices)\n",
    "\n"
   ]
  },
  {
   "cell_type": "code",
   "execution_count": 4,
   "metadata": {},
   "outputs": [
    {
     "name": "stdout",
     "output_type": "stream",
     "text": [
      "5/5 [==============================] - 0s 40ms/step - loss: 3.1541 - accuracy: 0.3087\n",
      "Validation Loss: 3.154102325439453\n",
      "Validation Accuracy: 0.3087248206138611\n"
     ]
    }
   ],
   "source": [
    "# Evaluate the model on the validation data\n",
    "loss, accuracy = model.evaluate(validation_generator)\n",
    "\n",
    "# Print the evaluation results\n",
    "print(f\"Validation Loss: {loss}\")\n",
    "print(f\"Validation Accuracy: {accuracy}\")"
   ]
  },
  {
   "cell_type": "code",
   "execution_count": 8,
   "metadata": {},
   "outputs": [
    {
     "data": {
      "image/png": "[encoded data removed]",
      "text/plain": [
       "<IPython.core.display.Image object>"
      ]
     },
     "metadata": {},
     "output_type": "display_data"
    },
    {
     "name": "stdout",
     "output_type": "stream",
     "text": [
      "1/1 [==============================] - 0s 19ms/step\n",
      "This character is probably a za\n"
     ]
    }
   ],
   "source": [
    "img = cv2.imread(\"zatest.png\")\n",
    "\n",
    "img = cv2.imread(\"zatest.png\")\n",
    "\n",
    "display(Image(filename=\"zatest.png\"))\n",
    "\n",
    "\n",
    "#expected_shape = (28, 28)\n",
    "\n",
    "img = np.invert(np.array([img]))\n",
    "prediction = model.predict(img)\n",
    "predicted_label_numeric = np.argmax(prediction)\n",
    "\n",
    "# Map the numeric label to the corresponding character string\n",
    "predicted_label_string = [key for key, value in train_generator.class_indices.items() if value == predicted_label_numeric][0]\n",
    "\n",
    "# Print the result\n",
    "print(f\"This character is probably a {predicted_label_string}\")\n",
    "#plt.imshow(img[0], cmap=plt.cm.binary)\n",
    "#plt.show()"
   ]
  }
 ],
 "metadata": {
  "kernelspec": {
   "display_name": "Python 3",
   "language": "python",
   "name": "python3"
  },
  "language_info": {
   "codemirror_mode": {
    "name": "ipython",
    "version": 3
   },
   "file_extension": ".py",
   "mimetype": "text/x-python",
   "name": "python",
   "nbconvert_exporter": "python",
   "pygments_lexer": "ipython3",
   "version": "3.9.6"
  },
  "orig_nbformat": 4
 },
 "nbformat": 4,
 "nbformat_minor": 2
}
